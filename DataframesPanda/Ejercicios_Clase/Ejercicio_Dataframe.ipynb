{
  "cells": [
    {
      "cell_type": "markdown",
      "metadata": {
        "colab_type": "text",
        "id": "view-in-github"
      },
      "source": [
        "<a href=\"https://colab.research.google.com/github/nacho-pascual/Curso-Python-Udemy/blob/main/Ejercicio_Dataframe.ipynb\" target=\"_parent\"><img src=\"https://colab.research.google.com/assets/colab-badge.svg\" alt=\"Open In Colab\"/></a>"
      ]
    },
    {
      "cell_type": "markdown",
      "metadata": {
        "id": "ZheTLOo5oDVn"
      },
      "source": [
        "# Ejercicio\n",
        "\n",
        "Vamos a crear un dataframe de 10 filas y 5 columnas.\n",
        "\n",
        "* La primera columna será `word` y contendrá 10 palabras.\n",
        "* La segunda columna será `length` y contendrá la longitud de cada palabra.\n",
        "* La tercera columna será `start` y contendrá la primera letra de cada palabra.\n",
        "* La cuarta columna será `end` y contendrá la última letra de cada palabra.\n",
        "* La quinta columna será `isPalindrome` y contedrá valores booleanos indicando si cada palabra es o no un palíndromo.\n",
        "\n",
        "A continuación, vamos a transformar la columna `word` en los nombres de las filas utilizando el método `.set_index()`.\n",
        "\n",
        "Finalmente, calcularemos las dimensiones de nuestro dataframe."
      ]
    },
    {
      "cell_type": "code",
      "execution_count": 1,
      "metadata": {
        "id": "00eQEGa_opdj"
      },
      "outputs": [],
      "source": [
        "def is_palindrome(word): \n",
        "  \"\"\"\n",
        "  Devuelve si la palabra word es palíndroma.\n",
        "  Args:\n",
        "    word: Palabra en formato string\n",
        "  Returns:\n",
        "    isPalindrome: Booleano\n",
        "  \"\"\"\n",
        "  word = word.lower()\n",
        "  l = []\n",
        "  isPalindrome = True\n",
        "  for c in word: \n",
        "    l.append(c) \n",
        "  n = len(l)\n",
        "  for i in range(int(n / 2)):\n",
        "    if l[i] != l[n - (i + 1)]: \n",
        "      isPalindrome = False\n",
        "  return isPalindrome"
      ]
    },
    {
      "cell_type": "code",
      "execution_count": 2,
      "metadata": {
        "id": "HghywwXqm-bF"
      },
      "outputs": [],
      "source": [
        "words = [\"sol\", \"ala\", \"cama\", \"duro\", \"bueno\", \"kayak\", \"marea\", \"rotor\", \"misterio\", \"acurruca\"]\n",
        "data = {\"word\": words,\n",
        "        \"length\": map(len, words),\n",
        "        \"start\": map(lambda w: w[0], words),\n",
        "        \"end\": map(lambda w: w[-1], words),\n",
        "        \"isPalindrome\": map(is_palindrome, words)}\n",
        "\n",
        "import pandas as pd\n",
        "words = pd.DataFrame(data)"
      ]
    },
    {
      "cell_type": "code",
      "execution_count": 3,
      "metadata": {
        "colab": {
          "base_uri": "https://localhost:8080/",
          "height": 204
        },
        "id": "NwHI2iUto47-",
        "outputId": "717df2cd-0a32-4cb5-b850-0ebd7a0cec07"
      },
      "outputs": [
        {
          "data": {
            "text/html": [
              "<div>\n",
              "<style scoped>\n",
              "    .dataframe tbody tr th:only-of-type {\n",
              "        vertical-align: middle;\n",
              "    }\n",
              "\n",
              "    .dataframe tbody tr th {\n",
              "        vertical-align: top;\n",
              "    }\n",
              "\n",
              "    .dataframe thead th {\n",
              "        text-align: right;\n",
              "    }\n",
              "</style>\n",
              "<table border=\"1\" class=\"dataframe\">\n",
              "  <thead>\n",
              "    <tr style=\"text-align: right;\">\n",
              "      <th></th>\n",
              "      <th>word</th>\n",
              "      <th>length</th>\n",
              "      <th>start</th>\n",
              "      <th>end</th>\n",
              "      <th>isPalindrome</th>\n",
              "    </tr>\n",
              "  </thead>\n",
              "  <tbody>\n",
              "    <tr>\n",
              "      <th>0</th>\n",
              "      <td>sol</td>\n",
              "      <td>3</td>\n",
              "      <td>s</td>\n",
              "      <td>l</td>\n",
              "      <td>False</td>\n",
              "    </tr>\n",
              "    <tr>\n",
              "      <th>1</th>\n",
              "      <td>ala</td>\n",
              "      <td>3</td>\n",
              "      <td>a</td>\n",
              "      <td>a</td>\n",
              "      <td>True</td>\n",
              "    </tr>\n",
              "    <tr>\n",
              "      <th>2</th>\n",
              "      <td>cama</td>\n",
              "      <td>4</td>\n",
              "      <td>c</td>\n",
              "      <td>a</td>\n",
              "      <td>False</td>\n",
              "    </tr>\n",
              "    <tr>\n",
              "      <th>3</th>\n",
              "      <td>duro</td>\n",
              "      <td>4</td>\n",
              "      <td>d</td>\n",
              "      <td>o</td>\n",
              "      <td>False</td>\n",
              "    </tr>\n",
              "    <tr>\n",
              "      <th>4</th>\n",
              "      <td>bueno</td>\n",
              "      <td>5</td>\n",
              "      <td>b</td>\n",
              "      <td>o</td>\n",
              "      <td>False</td>\n",
              "    </tr>\n",
              "  </tbody>\n",
              "</table>\n",
              "</div>"
            ],
            "text/plain": [
              "    word  length start end  isPalindrome\n",
              "0    sol       3     s   l         False\n",
              "1    ala       3     a   a          True\n",
              "2   cama       4     c   a         False\n",
              "3   duro       4     d   o         False\n",
              "4  bueno       5     b   o         False"
            ]
          },
          "execution_count": 3,
          "metadata": {},
          "output_type": "execute_result"
        }
      ],
      "source": [
        "words.head()"
      ]
    },
    {
      "cell_type": "code",
      "execution_count": 4,
      "metadata": {
        "id": "W3bjGQKyo8Y9"
      },
      "outputs": [],
      "source": [
        "words = words.set_index(\"word\")"
      ]
    },
    {
      "cell_type": "code",
      "execution_count": 5,
      "metadata": {
        "colab": {
          "base_uri": "https://localhost:8080/",
          "height": 204
        },
        "id": "xI3T7GMBpJEf",
        "outputId": "48ba89e7-6698-435f-a04e-9e769fc8362f"
      },
      "outputs": [],
      "source": [
        "words.index.names = [None]"
      ]
    },
    {
      "cell_type": "code",
      "execution_count": 6,
      "metadata": {
        "colab": {
          "base_uri": "https://localhost:8080/"
        },
        "id": "umrWYD8SpNId",
        "outputId": "2c3580ac-c178-4d0b-a63c-24d5e197ac1f"
      },
      "outputs": [
        {
          "data": {
            "text/plain": [
              "(10, 4)"
            ]
          },
          "execution_count": 6,
          "metadata": {},
          "output_type": "execute_result"
        }
      ],
      "source": [
        "words.shape"
      ]
    }
  ],
  "metadata": {
    "colab": {
      "collapsed_sections": [],
      "include_colab_link": true,
      "provenance": []
    },
    "kernelspec": {
      "display_name": "Python 3.9.12 ('base')",
      "language": "python",
      "name": "python3"
    },
    "language_info": {
      "codemirror_mode": {
        "name": "ipython",
        "version": 3
      },
      "file_extension": ".py",
      "mimetype": "text/x-python",
      "name": "python",
      "nbconvert_exporter": "python",
      "pygments_lexer": "ipython3",
      "version": "3.9.12"
    },
    "vscode": {
      "interpreter": {
        "hash": "b394ba6acb6ed3d6132d360d1320ce09c0d5ec2786c8f8dfec10484f233229da"
      }
    }
  },
  "nbformat": 4,
  "nbformat_minor": 0
}
